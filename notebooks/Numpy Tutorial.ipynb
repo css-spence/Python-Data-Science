{
 "cells": [
  {
   "cell_type": "code",
   "execution_count": 1,
   "metadata": {},
   "outputs": [],
   "source": [
    "import numpy as np\n",
    "import timeit\n",
    "import matplotlib.pyplot as plt\n",
    "import seaborn"
   ]
  },
  {
   "cell_type": "code",
   "execution_count": 2,
   "metadata": {},
   "outputs": [],
   "source": [
    "# Global Variables.\n",
    "filepath = \"/Users/Chrisdon/Documents/Training/Python/data/\" # Change this to the path containing the sample data"
   ]
  },
  {
   "cell_type": "markdown",
   "metadata": {},
   "source": [
    "## Methods for creating arrays"
   ]
  },
  {
   "cell_type": "code",
   "execution_count": 3,
   "metadata": {},
   "outputs": [
    {
     "data": {
      "text/plain": [
       "array([[4, 0, 0],\n",
       "       [3, 6, 5],\n",
       "       [0, 9, 1]])"
      ]
     },
     "execution_count": 3,
     "metadata": {},
     "output_type": "execute_result"
    }
   ],
   "source": [
    "temp_celcius = [20.1, 20.8, 21.9, 22.5, 22.7, 22.3, 21.8, 21.2, 20.9, 20.1] # Python List\n",
    "np.array(temp_celcius, dtype='float32') # np.array can be used to to create an array from a Python list\n",
    "# Create an array filled with a linear sequence starting at 0, ending at 9\n",
    "np.arange(10)\n",
    "# Create a length-10 integer array filled with zeros\n",
    "np.zeros(10, dtype=int)\n",
    "# Create a 3x5 floating-point array filled with 1s\n",
    "np.ones((3, 5), dtype=float)\n",
    "# Create a 3x5 array filled with 3.14\n",
    "np.full((3, 5), 3.14)\n",
    "# Create an array filled with a linear sequence starting at 0, ending at 20, stepping by 2\n",
    "np.arange(0, 20, 2)\n",
    "# Create an array of five values evenly spaced between 0 and 1\n",
    "np.linspace(0, 1, 5)\n",
    "# Create a 3x3 array of uniformly distributed random values between 0 and 1\n",
    "np.random.random((3, 3))\n",
    "# Create a 3x3 array of normally distributed random values with mean 0 and standard deviation 1\n",
    "np.random.normal(0, 1, (3, 3))\n",
    "# Create a 3x3 array of random integers in the interval [0, 10)\n",
    "np.random.randint(0, 10, (3, 3))"
   ]
  },
  {
   "cell_type": "markdown",
   "metadata": {},
   "source": [
    "## NumPy Array Attributes\n",
    "Each array has attributes:\n",
    "* ndim (the number of dimensions)\n",
    "* shape (the size of each dimension) \n",
    "* size (the total size of the array)\n",
    "\n",
    "Defining three random arrays: one-dimensional, two-dimensional, and three-dimensional arrays using NumPy’s random number generator. Seed with a set value to ensure that the same random arrays are generated each time this code is run."
   ]
  },
  {
   "cell_type": "code",
   "execution_count": 4,
   "metadata": {},
   "outputs": [],
   "source": [
    "np.random.seed(0) # seed for reproducibility\n",
    "x1 = np.random.randint(20, size=10) # One-dimensional array\n",
    "x2 = np.random.randint(10, size=(3, 4)) # Two-dimensional array\n",
    "x3 = np.random.randint(10, size=(3, 4, 5)) # Three-dimensional array"
   ]
  },
  {
   "cell_type": "code",
   "execution_count": 5,
   "metadata": {},
   "outputs": [
    {
     "name": "stdout",
     "output_type": "stream",
     "text": [
      "x3 ndim:  3\n",
      "x3 shape: (3, 4, 5)\n",
      "x3 size:  60\n",
      "dtype: int32\n",
      "Item size 4\n",
      "Number of bytes 240\n"
     ]
    }
   ],
   "source": [
    "print(\"x3 ndim: \", x3.ndim)\n",
    "print(\"x3 shape:\", x3.shape)\n",
    "print(\"x3 size: \", x3.size)\n",
    "print(\"dtype:\", x3.dtype)\n",
    "print(\"Item size\", x3.itemsize)\n",
    "print(\"Number of bytes\", x3.nbytes)"
   ]
  },
  {
   "cell_type": "markdown",
   "metadata": {},
   "source": [
    "## Array Indexing"
   ]
  },
  {
   "cell_type": "code",
   "execution_count": 6,
   "metadata": {},
   "outputs": [
    {
     "data": {
      "text/plain": [
       "array([5, 5, 6, 8, 4])"
      ]
     },
     "execution_count": 6,
     "metadata": {},
     "output_type": "execute_result"
    }
   ],
   "source": [
    "x3\n",
    "x3[1] # get the second array\n",
    "x3[1,2] # get the third row from the second array"
   ]
  },
  {
   "cell_type": "markdown",
   "metadata": {},
   "source": [
    "## Array Slicing: Accessing Subarrays\n",
    "Just as we can use square brackets to access individual array elements, we can also use them to access subarrays with the slice notation: x[start:stop:step]"
   ]
  },
  {
   "cell_type": "code",
   "execution_count": 7,
   "metadata": {},
   "outputs": [
    {
     "data": {
      "text/plain": [
       "array([ 7,  3, 15])"
      ]
     },
     "execution_count": 7,
     "metadata": {},
     "output_type": "execute_result"
    }
   ],
   "source": [
    "x1\n",
    "x1[:5] # first five elements\n",
    "x1[5:] # elements after index 5\n",
    "x1[4:7] # middle subarray\n",
    "x1[::2] # every other element\n",
    "x1[1::2] # every other element, starting at index 1\n",
    "x1[::-1] # all elements, reversed\n",
    "x1[5::-2] # reversed every other from index 5"
   ]
  },
  {
   "cell_type": "code",
   "execution_count": 8,
   "metadata": {},
   "outputs": [
    {
     "data": {
      "text/plain": [
       "array([[9, 5, 1, 8],\n",
       "       [7, 7, 6, 1],\n",
       "       [8, 8, 6, 7]])"
      ]
     },
     "execution_count": 8,
     "metadata": {},
     "output_type": "execute_result"
    }
   ],
   "source": [
    "x2\n",
    "x2[:2, :3] # two rows, three columns\n",
    "x2[:3, ::2] # all rows, every other column\n",
    "x2[::-1, ::-1] # reverse subarray dimensions"
   ]
  },
  {
   "cell_type": "markdown",
   "metadata": {},
   "source": [
    "### Subarrays as no-copy views\n",
    "Array slices return views rather than copies of the array data. If you modify the subarray in a new object,the original array is modified. It may be useful to explicitly copy the data within an array or a subarray using the copy() method."
   ]
  },
  {
   "cell_type": "code",
   "execution_count": 9,
   "metadata": {},
   "outputs": [
    {
     "data": {
      "text/plain": [
       "array([[99,  6,  8,  8],\n",
       "       [ 1,  6,  7,  7],\n",
       "       [ 8,  1,  5,  9]])"
      ]
     },
     "execution_count": 9,
     "metadata": {},
     "output_type": "execute_result"
    }
   ],
   "source": [
    "x2\n",
    "x2_no_copy = x2[:2, :2] # extract a 2×2 subarray from x2\n",
    "x2_no_copy[0, 0] = 99 # Modify the first element in the new object\n",
    "x2 # The first element in the original array is changed\n",
    "\n",
    "x2_copy = x2[:2, :2].copy()\n",
    "x2_copy[0, 0] = 42\n",
    "x2_copy\n",
    "x2"
   ]
  },
  {
   "cell_type": "markdown",
   "metadata": {},
   "source": [
    "### Reshaping of Arrays\n",
    "Note: For the reshape() method to work, the size of the initial array must match the size of the reshaped array"
   ]
  },
  {
   "cell_type": "code",
   "execution_count": 10,
   "metadata": {},
   "outputs": [
    {
     "data": {
      "text/plain": [
       "array([[1],\n",
       "       [2],\n",
       "       [3]])"
      ]
     },
     "execution_count": 10,
     "metadata": {},
     "output_type": "execute_result"
    }
   ],
   "source": [
    "temp_array = np.arange(1, 10)\n",
    "temp_array.shape\n",
    "# convert one dimensional array into a 3×3 grid\n",
    "grid = temp_array.reshape((3, 3))\n",
    "grid\n",
    "grid.shape\n",
    "\n",
    "temp_array = np.array([1, 2, 3])\n",
    "# row vector via reshape\n",
    "temp_array.reshape((1, 3))\n",
    "temp_array.shape\n",
    "# row vector via newaxis\n",
    "temp_array[np.newaxis, :]\n",
    "# column vector via reshape\n",
    "temp_array.reshape((3, 1))\n",
    "# column vector via newaxis\n",
    "temp_array[:, np.newaxis]"
   ]
  },
  {
   "cell_type": "code",
   "execution_count": 11,
   "metadata": {},
   "outputs": [
    {
     "data": {
      "text/plain": [
       "array([[ 9,  8,  7, 99],\n",
       "       [ 6,  5,  4, 99]])"
      ]
     },
     "execution_count": 11,
     "metadata": {},
     "output_type": "execute_result"
    }
   ],
   "source": [
    "# Concatenation of NumPy Arrays\n",
    "a = [1, 2, 3]\n",
    "b = [4, 5, 6]\n",
    "c = [7, 8, 9]\n",
    "grid = np.concatenate([a, b, c]).reshape((3, 3))\n",
    "grid\n",
    "# concatenate two-dimensional arrays\n",
    "np.concatenate([grid, grid]) # concatenate along the first axis\n",
    "np.concatenate([grid, grid], axis=1) # concatenate along the second axis (zero-indexed)\n",
    "x = np.array([1, 2, 3])\n",
    "grid = np.array([[9, 8, 7],\n",
    "                 [6, 5, 4]])\n",
    "# vertically stack the arrays\n",
    "np.vstack([x, grid])\n",
    "# horizontally stack the arrays\n",
    "y = np.array([[99], [99]])\n",
    "np.hstack([grid, y])"
   ]
  },
  {
   "cell_type": "code",
   "execution_count": 12,
   "metadata": {},
   "outputs": [
    {
     "data": {
      "text/plain": [
       "(array([[ 0,  1],\n",
       "        [ 4,  5],\n",
       "        [ 8,  9],\n",
       "        [12, 13]]),\n",
       " array([[ 2,  3],\n",
       "        [ 6,  7],\n",
       "        [10, 11],\n",
       "        [14, 15]]))"
      ]
     },
     "execution_count": 12,
     "metadata": {},
     "output_type": "execute_result"
    }
   ],
   "source": [
    "# The opposite of concatenation is splitting, which is implemented by the functions np.split, np.hsplit, and np.vsplit\n",
    "x = [1, 2, 3, 99, 99, 3, 2, 1]\n",
    "x1, x2, x3 = np.split(x, [3, 5])\n",
    "x1, x2, x3\n",
    "grid = np.arange(16).reshape((4, 4))\n",
    "grid\n",
    "upper, lower = np.vsplit(grid, [2])\n",
    "upper, lower\n",
    "left, right = np.hsplit(grid, [2])\n",
    "left, right"
   ]
  },
  {
   "cell_type": "markdown",
   "metadata": {},
   "source": [
    "### Array arithmetic"
   ]
  },
  {
   "cell_type": "code",
   "execution_count": 13,
   "metadata": {},
   "outputs": [
    {
     "name": "stdout",
     "output_type": "stream",
     "text": [
      "x = [0 1 2 3 4]\n",
      "x + 5 = [5 6 7 8 9]\n",
      "x - 5 = [-5 -4 -3 -2 -1]\n",
      "x * 2 = [0 2 4 6 8]\n",
      "x / 2 = [0.  0.5 1.  1.5 2. ]\n",
      "x // 2 = [0 0 1 1 2]\n",
      "-x =  [ 0 -1 -2 -3 -4]\n",
      "x ** 2 =  [ 0  1  4  9 16]\n",
      "x % 2 =  [0 1 0 1 0]\n",
      "sqrt(x) =  [0.         1.         1.41421356 1.73205081 2.        ]\n"
     ]
    }
   ],
   "source": [
    "x = np.arange(5)\n",
    "print(\"x =\", x)\n",
    "print(\"x + 5 =\", x + 5)\n",
    "print(\"x - 5 =\", x - 5)\n",
    "print(\"x * 2 =\", x * 2)\n",
    "print(\"x / 2 =\", x / 2)\n",
    "print(\"x // 2 =\", x // 2) # floor division\n",
    "print(\"-x = \", -x) # unary ufunc for negation\n",
    "print(\"x ** 2 = \", x ** 2) # ** operator for exponentiation\n",
    "print(\"x % 2 = \", x % 2) # % operator for modulus\n",
    "print(\"sqrt(x) = \", np.sqrt(x))"
   ]
  },
  {
   "cell_type": "code",
   "execution_count": 14,
   "metadata": {},
   "outputs": [
    {
     "name": "stdout",
     "output_type": "stream",
     "text": [
      "theta =  [0.         1.57079633 3.14159265]\n",
      "sin(theta) =  [0.0000000e+00 1.0000000e+00 1.2246468e-16]\n",
      "cos(theta) =  [ 1.000000e+00  6.123234e-17 -1.000000e+00]\n",
      "tan(theta) =  [ 0.00000000e+00  1.63312394e+16 -1.22464680e-16]\n",
      "x =  [-1, 0, 1]\n",
      "arcsin(x) =  [-1.57079633  0.          1.57079633]\n",
      "arccos(x) =  [3.14159265 1.57079633 0.        ]\n",
      "arctan(x) =  [-0.78539816  0.          0.78539816]\n"
     ]
    }
   ],
   "source": [
    "# Trigonometric functions\n",
    "np.add(x, 2)\n",
    "x = x * -1\n",
    "abs(x)\n",
    "theta = np.linspace(0, np.pi, 3)\n",
    "print(\"theta = \", theta)\n",
    "print(\"sin(theta) = \", np.sin(theta))\n",
    "print(\"cos(theta) = \", np.cos(theta))\n",
    "print(\"tan(theta) = \", np.tan(theta))\n",
    "\n",
    "x = [-1, 0, 1]\n",
    "print(\"x = \", x)\n",
    "print(\"arcsin(x) = \", np.arcsin(x))\n",
    "print(\"arccos(x) = \", np.arccos(x))\n",
    "print(\"arctan(x) = \", np.arctan(x))"
   ]
  },
  {
   "cell_type": "code",
   "execution_count": 15,
   "metadata": {},
   "outputs": [
    {
     "name": "stdout",
     "output_type": "stream",
     "text": [
      "x = [1, 2, 3]\n",
      "e^x = [ 2.71828183  7.3890561  20.08553692]\n",
      "2^x = [2. 4. 8.]\n",
      "3^x = [ 3  9 27]\n",
      "x = [1, 2, 4, 10]\n",
      "ln(x) = [0.         0.69314718 1.38629436 2.30258509]\n",
      "log2(x) = [0.         1.         2.         3.32192809]\n",
      "log10(x) = [0.         0.30103    0.60205999 1.        ]\n"
     ]
    }
   ],
   "source": [
    "# Exponents\n",
    "x = [1, 2, 3]\n",
    "print(\"x =\", x)\n",
    "print(\"e^x =\", np.exp(x))\n",
    "print(\"2^x =\", np.exp2(x))\n",
    "print(\"3^x =\", np.power(3, x))\n",
    "# logarithms\n",
    "x = [1, 2, 4, 10]\n",
    "print(\"x =\", x)\n",
    "print(\"ln(x) =\", np.log(x))\n",
    "print(\"log2(x) =\", np.log2(x))\n",
    "print(\"log10(x) =\", np.log10(x))"
   ]
  },
  {
   "cell_type": "code",
   "execution_count": 16,
   "metadata": {},
   "outputs": [
    {
     "data": {
      "text/plain": [
       "array([  1,   2,   6,  24, 120], dtype=int32)"
      ]
     },
     "execution_count": 16,
     "metadata": {},
     "output_type": "execute_result"
    }
   ],
   "source": [
    "# Aggregates\n",
    "x = np.arange(1, 6)\n",
    "x\n",
    "np.add.reduce(x)\n",
    "np.multiply.reduce(x)\n",
    "np.add.accumulate(x)\n",
    "np.multiply.accumulate(x)"
   ]
  },
  {
   "cell_type": "markdown",
   "metadata": {},
   "source": [
    "### Aggregations"
   ]
  },
  {
   "cell_type": "code",
   "execution_count": 17,
   "metadata": {},
   "outputs": [
    {
     "data": {
      "text/plain": [
       "0.9999997207656334"
      ]
     },
     "execution_count": 17,
     "metadata": {},
     "output_type": "execute_result"
    }
   ],
   "source": [
    "np.random.seed(0)\n",
    "big_array = np.random.rand(1000000)\n",
    "np.sum(big_array)\n",
    "np.min(big_array)\n",
    "np.max(big_array)"
   ]
  },
  {
   "cell_type": "markdown",
   "metadata": {},
   "source": [
    "### Computation on Arrays: Broadcasting\n",
    "Broadcasting allowsbinary operations to be performed on arrays of different sizes\n",
    "\n",
    "#### Broadcasting Rules\n",
    "When operating on two arrays, NumPy compares their shapes element-wise. It starts with the trailing (i.e. rightmost) dimensions and works its way left. Two dimensions are compatible when:\n",
    "\n",
    "* they are equal, or\n",
    "* one of them is 1"
   ]
  },
  {
   "cell_type": "code",
   "execution_count": 18,
   "metadata": {},
   "outputs": [
    {
     "data": {
      "text/plain": [
       "array([[ 1.,  2.,  3.],\n",
       "       [11., 12., 13.],\n",
       "       [21., 22., 23.],\n",
       "       [31., 32., 33.]])"
      ]
     },
     "execution_count": 18,
     "metadata": {},
     "output_type": "execute_result"
    }
   ],
   "source": [
    "a = np.array([0, 1, 2], dtype='float32')\n",
    "a + 5 # adding a scalar to an array\n",
    "b = np.array([\n",
    "    [1, 2, 3, 4],\n",
    "    [5, 6, 7, 8],\n",
    "    [9, 10, 11, 12]\n",
    "], dtype='int') \n",
    "b + 5 # adding a scalar to a multi-dimensional array\n",
    "c = np.ones((3, 4), dtype='int')\n",
    "b + c # one-dimensional array \"c\" is broadcast across the multi-dimensional array to match the shape of \"b\"\n",
    "\n",
    "a = np.arange(3)\n",
    "b = np.arange(3)[:, np.newaxis]\n",
    "a\n",
    "b\n",
    "a + b # broadcasting results in a two dimensional array\n",
    "\n",
    "# Broadcasting provides a convenient way of taking the outer product (or any other outer operation) of two arrays.\n",
    "a = np.array([0.0, 10.0, 20.0, 30.0])\n",
    "b = np.array([1.0, 2.0, 3.0])\n",
    "a[:, np.newaxis] + b"
   ]
  },
  {
   "cell_type": "markdown",
   "metadata": {},
   "source": [
    "#### Broadcasting Examples"
   ]
  },
  {
   "cell_type": "code",
   "execution_count": 19,
   "metadata": {},
   "outputs": [
    {
     "data": {
      "image/png": "[encoded data removed]",
      "text/plain": [
       "<Figure size 432x288 with 2 Axes>"
      ]
     },
     "metadata": {
      "needs_background": "light"
     },
     "output_type": "display_data"
    }
   ],
   "source": [
    "# Centering a 10×3 array \n",
    "X = np.random.random((10, 3))\n",
    "Xmean = X.mean(0)\n",
    "X_centered = X - Xmean # center the X array by subtracting the mean (this is a broadcasting operation)\n",
    "X_centered.mean(0)\n",
    "\n",
    "# Plotting a two-dimensional function. If we want to define a function z = f(x, y), broadcasting can be\n",
    "# used to compute the function across the grid\n",
    "\n",
    "# x and y have 50 steps from 0 to 5\n",
    "x = np.linspace(0, 5, 50)\n",
    "y = np.linspace(0, 5, 50)[:, np.newaxis]\n",
    "z = np.sin(x) ** 10 + np.cos(10 + y * x) * np.cos(x)\n",
    "%matplotlib inline\n",
    "plt.imshow(z, origin='lower', extent=[0, 5, 0, 5],\n",
    "cmap='viridis')\n",
    "plt.colorbar();"
   ]
  },
  {
   "cell_type": "code",
   "execution_count": 20,
   "metadata": {},
   "outputs": [
    {
     "data": {
      "image/png": "[encoded data removed]",
      "text/plain": [
       "<Figure size 432x288 with 1 Axes>"
      ]
     },
     "metadata": {},
     "output_type": "display_data"
    },
    {
     "name": "stdout",
     "output_type": "stream",
     "text": [
      "Number days with rainfall between 0.5 and 1.0 inches:  29\n",
      "Number days without rain:  215\n",
      "Number days with rain:  150\n",
      "Days with more than 0.5 inches: 37\n",
      "Rainy days with < 0.1 inches : 75\n",
      "Median precip on rainy days in 2014 (inches):  0.19488188976377951\n",
      "Median precip on summer days in 2014 (inches):  0.0\n",
      "Maximum precip on summer days in 2014 (inches):  0.8503937007874016\n",
      "Median precip on non-summer rainy days (inches): 0.20078740157480315\n"
     ]
    }
   ],
   "source": [
    "# Analyzing Rainy Days in Seattle. Read precipitation column (PRCP) into the array  \n",
    "rainfall = np.loadtxt(filepath + 'Seattle2014.csv', delimiter=',', skiprows=1, usecols=3)\n",
    "inches = rainfall / 254 # 1/10mm -> inches\n",
    "inches.shape\n",
    "%matplotlib inline\n",
    "seaborn.set() # Plot styling\n",
    "plt.hist(inches, 40)\n",
    "plt.show()\n",
    "print(\"Number days with rainfall between 0.5 and 1.0 inches: \", np.sum((inches > 0.5) & (inches < 1)))\n",
    "print(\"Number days without rain: \", np.sum(inches == 0))\n",
    "print(\"Number days with rain: \", np.sum(inches != 0))\n",
    "print(\"Days with more than 0.5 inches:\", np.sum(inches > 0.5))\n",
    "print(\"Rainy days with < 0.1 inches :\", np.sum((inches > 0) & (inches < 0.2)))\n",
    "\n",
    "# construct a mask of all rainy days\n",
    "rainy = (inches > 0)\n",
    "# construct a mask of all summer days (June 21st is the 172nd day)\n",
    "summer = (np.arange(365) - 172 < 90) & (np.arange(365) - 172 > 0)\n",
    "print(\"Median precip on rainy days in 2014 (inches): \", np.median(inches[rainy]))\n",
    "print(\"Median precip on summer days in 2014 (inches): \", np.median(inches[summer]))\n",
    "print(\"Maximum precip on summer days in 2014 (inches): \", np.max(inches[summer]))\n",
    "print(\"Median precip on non-summer rainy days (inches):\", np.median(inches[rainy & ~summer]))"
   ]
  },
  {
   "cell_type": "markdown",
   "metadata": {},
   "source": [
    "### Sorting Arrays"
   ]
  },
  {
   "cell_type": "code",
   "execution_count": 21,
   "metadata": {},
   "outputs": [
    {
     "name": "stdout",
     "output_type": "stream",
     "text": [
      "293 µs ± 12.5 µs per loop (mean ± std. dev. of 7 runs, 1000 loops each)\n",
      "4.23 µs ± 135 ns per loop (mean ± std. dev. of 7 runs, 100000 loops each)\n",
      "2.98 µs ± 88.3 ns per loop (mean ± std. dev. of 7 runs, 100000 loops each)\n"
     ]
    }
   ],
   "source": [
    "# selection sort UDF repeatedly finds the minimum value from a list, and makes swaps until the list is sorted.\n",
    "# It has an O(n2) time complexity, which makes it inefficient on large list. \n",
    "# For a list of N values, it requires N loops, each of which does on the order of ~ N comparisons to find the\n",
    "# swap value. if you double the number of items in the list, the execution time will go up by about a factor of four\n",
    "def selection_sort(x):\n",
    "    for i in range(len(x)):\n",
    "        swap = i + np.argmin(x[i:])\n",
    "        (x[i], x[swap]) = (x[swap], x[i])\n",
    "    return x\n",
    "\n",
    "# this permutation sort is an inefficient sorting algorithm should never be used for any real computation.\n",
    "# O(N × N!) (N times N factorial)\n",
    "def bogosort(x):\n",
    "    while np.any(x[:-1] > x[1:]):\n",
    "        np.random.shuffle(x)\n",
    "    return x\n",
    "\n",
    "#x = np.array([2, 1, 4, 3, 5])\n",
    "np.random.seed(0)\n",
    "big_array = np.random.rand(100)\n",
    "%timeit selection_sort(big_array)\n",
    "%timeit bogosort(big_array)\n",
    "\n",
    "# NumPy’s np.sort function turns out to be much more efficient\n",
    "# The default sorting algorithm is ‘quicksort’. kind{‘quicksort’, ‘mergesort’, ‘heapsort’, ‘stable’}, \n",
    "%timeit np.sort(big_array, kind = 'quicksort')"
   ]
  },
  {
   "cell_type": "code",
   "execution_count": 22,
   "metadata": {},
   "outputs": [
    {
     "data": {
      "text/plain": [
       "array([[3, 4, 6, 6, 7, 9],\n",
       "       [2, 3, 4, 6, 7, 7],\n",
       "       [1, 2, 4, 5, 7, 7],\n",
       "       [0, 1, 4, 5, 5, 9]])"
      ]
     },
     "execution_count": 22,
     "metadata": {},
     "output_type": "execute_result"
    }
   ],
   "source": [
    "# Sorting along rows or columns\n",
    "rand = np.random.RandomState(42)\n",
    "matrix = rand.randint(0, 10, (4, 6))\n",
    "matrix\n",
    "np.sort(matrix, axis=0) # sort each column of matrix\n",
    "np.sort(matrix, axis=1) # sort each row of matrix"
   ]
  },
  {
   "cell_type": "markdown",
   "metadata": {},
   "source": [
    "### Example: k-Nearest Neighbors"
   ]
  },
  {
   "cell_type": "code",
   "execution_count": 23,
   "metadata": {},
   "outputs": [
    {
     "data": {
      "text/plain": [
       "<matplotlib.collections.PathCollection at 0x1d7cce4dc70>"
      ]
     },
     "execution_count": 23,
     "metadata": {},
     "output_type": "execute_result"
    },
    {
     "data": {
      "image/png": "[encoded data removed]",
      "text/plain": [
       "<Figure size 432x288 with 1 Axes>"
      ]
     },
     "metadata": {},
     "output_type": "display_data"
    }
   ],
   "source": [
    "X = rand.rand(10, 2)\n",
    "%matplotlib inline\n",
    "seaborn.set() # Plot styling\n",
    "plt.scatter(X[:, 0], X[:, 1], s=100)"
   ]
  },
  {
   "cell_type": "code",
   "execution_count": 24,
   "metadata": {},
   "outputs": [
    {
     "name": "stdout",
     "output_type": "stream",
     "text": [
      "[[0 3 9 7 1 4 2 5 6 8]\n",
      " [1 4 7 9 3 6 8 5 0 2]\n",
      " [2 1 4 6 3 0 8 9 7 5]\n",
      " [3 9 7 0 1 4 5 8 6 2]\n",
      " [4 1 8 5 6 7 9 3 0 2]\n",
      " [5 8 6 4 1 7 9 3 2 0]\n",
      " [6 8 5 4 1 7 9 3 2 0]\n",
      " [7 9 3 1 4 0 5 8 6 2]\n",
      " [8 5 6 4 1 7 9 3 2 0]\n",
      " [9 7 3 0 1 4 5 8 6 2]]\n"
     ]
    },
    {
     "data": {
      "image/png": "[encoded data removed]",
      "text/plain": [
       "<Figure size 432x288 with 1 Axes>"
      ]
     },
     "metadata": {},
     "output_type": "display_data"
    }
   ],
   "source": [
    "# Compute the distance between each pair of points. The squared distance between two points is the sum of the \n",
    "# squared differences in each dimension; Compute the matrix of square distances using the efficient broadcasting\n",
    "# and aggregation routines:\n",
    "dist_sq = np.sum((X[:,np.newaxis,:] - X[np.newaxis,:,:]) ** 2, axis=-1)\n",
    "# Break down the above calculation into its component steps\n",
    "# for each pair of points, compute differences in their coordinates\n",
    "differences = X[:, np.newaxis, :] - X[np.newaxis, :, :]\n",
    "differences.shape\n",
    "# square the coordinate differences\n",
    "sq_differences = differences ** 2\n",
    "sq_differences.shape\n",
    "# sum the coordinate differences to get the squared distance\n",
    "dist_sq = sq_differences.sum(-1)\n",
    "dist_sq.shape\n",
    "# Verify the outcome by examining the diagonal of this matrix (i.e., the set of distances between each point and itself) \n",
    "# is all zero:\n",
    "dist_sq.diagonal()\n",
    "# With the pairwise square-distances converted use np.arg sort to sort along each row. \n",
    "# The leftmost columns will then give the indices of the nearest neighbors\n",
    "nearest = np.argsort(dist_sq, axis=1)\n",
    "print(nearest)\n",
    "# we’re simply interested in the nearest k neighbors, all we need is to partition each\n",
    "# row so that the smallest k + 1 squared distances come first, with larger distances filling \n",
    "# the remaining positions of the array.\n",
    "K = 2\n",
    "nearest_partition = np.argpartition(dist_sq, K + 1, axis=1)\n",
    "# visualize this network of neighbors, let’s quickly plot the points along with\n",
    "# lines representing the connections from each point to its two nearest neighbors\n",
    "plt.scatter(X[:, 0], X[:, 1], s=100)\n",
    "# draw lines from each point to its two nearest neighbors\n",
    "K = 2\n",
    "for i in range(X.shape[0]):\n",
    "    for j in nearest_partition[i, :K+1]:\n",
    "        plt.plot(*zip(X[j], X[i]), color='black') # plot a line from X[i] to X[j]\n",
    "# Each point in the plot has lines drawn to its two nearest neighbors. At first glance, it\n",
    "# might seem strange that some of the points have more than two lines coming out of\n",
    "# them: this is due to the fact that if point A is one of the two nearest neighbors of point\n",
    "# B, this does not necessarily imply that point B is one of the two nearest neighbors of\n",
    "# point A."
   ]
  },
  {
   "cell_type": "markdown",
   "metadata": {},
   "source": [
    "### Structured Data: NumPy’s Structured Arrays"
   ]
  },
  {
   "cell_type": "code",
   "execution_count": 25,
   "metadata": {},
   "outputs": [
    {
     "data": {
      "text/plain": [
       "dtype([('name', '<U10'), ('age', '<i4'), ('weight', '<f4')])"
      ]
     },
     "execution_count": 25,
     "metadata": {},
     "output_type": "execute_result"
    }
   ],
   "source": [
    "# Use a compound data type for structured arrays\n",
    "data = np.zeros(4, dtype={'names':('name', 'age', 'weight'),\n",
    "                          'formats':('U10', 'i4', 'f8')})\n",
    "# formats: 'U10' translates to “Unicode string of maximum length 10,” 'i4' translates to\n",
    "# “4-byte (i.e., 32 bit) integer,” and 'f8' translates to “8-byte (i.e., 64 bit) float\n",
    "\n",
    "data['name'] = ['Alice', 'Bob', 'Cathy', 'Doug']\n",
    "data['age'] = [25, 45, 37, 19]\n",
    "data['weight'] = [55.0, 85.5, 68.0, 61.5]\n",
    "data\n",
    "\n",
    "# Get all names\n",
    "data['name']\n",
    "# Get second name\n",
    "data['name'][1]\n",
    "\n",
    "# Get first row of data\n",
    "data[0]\n",
    "# Get the name from the last row\n",
    "data[-1]['name']\n",
    "# Get names where age is under 30\n",
    "data[data['age'] < 30]['name']\n",
    "# Creating Structured Arrays\n",
    "np.dtype({'names':('name', 'age', 'weight'),\n",
    "          'formats':((np.str_, 10), int, np.float32)})"
   ]
  },
  {
   "cell_type": "markdown",
   "metadata": {},
   "source": [
    "# Numpy Performance\n",
    "This operation is very slow due to the type-checking and function dispatches that CPython must do at each cycle of the loop. Each time the reciprocal is computed, Python first examines the object’s type and does a dynamic lookup of the correct function to use for that type. If we were working in compiled code instead, this type specification would be known before the code executes and the result could be computed much more efficiently."
   ]
  },
  {
   "cell_type": "code",
   "execution_count": 26,
   "metadata": {},
   "outputs": [
    {
     "name": "stdout",
     "output_type": "stream",
     "text": [
      "150 ms ± 3.99 ms per loop (mean ± std. dev. of 7 runs, 10 loops each)\n",
      "934 µs ± 10.8 µs per loop (mean ± std. dev. of 7 runs, 1000 loops each)\n"
     ]
    }
   ],
   "source": [
    "big_array = np.random.rand(1000000)\n",
    "%timeit sum(big_array)\n",
    "%timeit np.sum(big_array)"
   ]
  },
  {
   "cell_type": "code",
   "execution_count": 27,
   "metadata": {},
   "outputs": [
    {
     "data": {
      "image/png": "[encoded data removed]",
      "text/plain": [
       "<Figure size 432x288 with 1 Axes>"
      ]
     },
     "metadata": {},
     "output_type": "display_data"
    }
   ],
   "source": [
    "# numpy conversion (no loop)\n",
    "def numpy2fahrenheit(temps):\n",
    "    return (temps * 9 / 5 + 32)\n",
    "\n",
    "# List comp to calc temp conversion\n",
    "def list2fahrenheit(temps):\n",
    "    return [x * 9 / 5 + 32 for x in temps]\n",
    "\n",
    "temp_celcius = np.array([20.1, 20.8, 21.9, 22.5, 22.7, 22.3, 21.8, 21.2, 20.9, 20.1], dtype='float32')\n",
    "temp_fahrenheit = numpy2fahrenheit(temp_celcius)\n",
    "temp = list2fahrenheit(temp_celcius)\n",
    "plt.plot(temp_fahrenheit)\n",
    "plt.show()"
   ]
  },
  {
   "cell_type": "code",
   "execution_count": 28,
   "metadata": {},
   "outputs": [
    {
     "name": "stdout",
     "output_type": "stream",
     "text": [
      "1000 loops, best of 3: 26.6560554 per loop\n",
      "1000 loops, best of 3: 0.17804939999999192 per loop\n"
     ]
    }
   ],
   "source": [
    "loops = 1000  # number executions of the main statement\n",
    "repeat = 3 #  how many times to call timeit()\n",
    "\n",
    "code_setup = '''\n",
    "import numpy as np\n",
    "size_of_vec = 100000\n",
    "def pure_python_version():\n",
    "    X = range(size_of_vec)\n",
    "    Y = range(size_of_vec)\n",
    "    Z = [X[i] + Y[i] for i in range(len(X))]\n",
    "    return Z\n",
    "'''\n",
    "\n",
    "code_body = 't1 = pure_python_version()'\n",
    "timings = timeit.repeat(setup=code_setup,\n",
    "                      stmt=code_body,\n",
    "                      repeat=repeat,\n",
    "                      number=loops)\n",
    "print('{} loops, best of {}: {} per loop'.format(loops, repeat, min(timings)))\n",
    "\n",
    "code_setup = '''\n",
    "import numpy as np\n",
    "size_of_vec = 100000\n",
    "def numpy_version():\n",
    "    X = np.arange(size_of_vec)\n",
    "    Y = np.arange(size_of_vec)\n",
    "    Z = X + Y\n",
    "    return Z\n",
    "'''\n",
    "code_body = 't2 = numpy_version()'\n",
    "timings = timeit.repeat(setup=code_setup,\n",
    "                      stmt=code_body,\n",
    "                      repeat=repeat,\n",
    "                      number=loops)\n",
    "print('{} loops, best of {}: {} per loop'.format(loops, repeat, min(timings)))\n"
   ]
  },
  {
   "cell_type": "code",
   "execution_count": 29,
   "metadata": {},
   "outputs": [
    {
     "name": "stdout",
     "output_type": "stream",
     "text": [
      "1000 loops, best of 3: 19.55417650000001 per loop\n"
     ]
    }
   ],
   "source": [
    "code_setup = '''\n",
    "import numpy as np\n",
    "np.random.seed(0)\n",
    "def compute_reciprocals(values):\n",
    "    output = np.empty(len(values))\n",
    "    for i in range(len(values)):\n",
    "        output[i] = 1.0 / values[i]\n",
    "    return output\n",
    "big_array = np.random.randint(1, 100, size=10000)\n",
    "'''\n",
    "code_body = 'compute_reciprocals(big_array)'\n",
    "loops = 1000  # number executions of the main statement\n",
    "repeat = 3 #  how many times to call timeit()\n",
    "timings = timeit.repeat(setup=code_setup,\n",
    "                      stmt=code_body,\n",
    "                      repeat=repeat,\n",
    "                      number=loops)\n",
    "print('{} loops, best of {}: {} per loop'.format(loops, repeat, min(timings)))"
   ]
  },
  {
   "cell_type": "markdown",
   "metadata": {},
   "source": [
    "The most efficient alternative is performing the operation on the array, which will then be applied to each element. This vectorized approach is designed to push the loop into the compiled layer that underlies NumPy, leading to much faster execution."
   ]
  },
  {
   "cell_type": "code",
   "execution_count": 30,
   "metadata": {},
   "outputs": [
    {
     "name": "stdout",
     "output_type": "stream",
     "text": [
      "1000 loops, best of 3: 0.01464099999998325 per loop\n"
     ]
    }
   ],
   "source": [
    "code_setup = ''' \n",
    "import numpy as np\n",
    "np.random.seed(0)\n",
    "def compute_reciprocals(values):\n",
    "    output = 1.0 / values  # Vecortized operation\n",
    "    return output\n",
    "big_array = np.random.randint(1, 100, size=10000)\n",
    "'''\n",
    "code_body = 'compute_reciprocals(big_array)'\n",
    "timings = timeit.repeat(setup=code_setup,\n",
    "                    stmt=code_body,\n",
    "                    repeat=repeat,\n",
    "                    number=loops)\n",
    "print('{} loops, best of {}: {} per loop'.format(loops, repeat, min(timings)))"
   ]
  },
  {
   "cell_type": "markdown",
   "metadata": {},
   "source": [
    "### Linear Algebra\n",
    "Linear algebra is often also used to solve a system of equations. Using the matrix notation of system of equations and the provided function of numpy, we can easily solve such a system of equation.\n",
    "\n",
    "7x + 5y -3z = 16\n",
    "\n",
    "3x - 5y + 2z = -8\n",
    "\n",
    "5x + 3y - 7z = 0\n",
    "\n",
    "We can also check if the solution is correct using the np.allclose function"
   ]
  },
  {
   "cell_type": "code",
   "execution_count": 3,
   "metadata": {},
   "outputs": [
    {
     "data": {
      "text/plain": [
       "array([1., 3., 2.])"
      ]
     },
     "execution_count": 3,
     "metadata": {},
     "output_type": "execute_result"
    }
   ],
   "source": [
    "a = np.array([[7,5,-3], [3,-5,2],[5,3,-7]])\n",
    "b = np.array([16,-8 ,0])\n",
    "x = np.linalg.solve(a, b)\n",
    "x"
   ]
  },
  {
   "cell_type": "code",
   "execution_count": 4,
   "metadata": {},
   "outputs": [
    {
     "data": {
      "text/plain": [
       "True"
      ]
     },
     "execution_count": 4,
     "metadata": {},
     "output_type": "execute_result"
    }
   ],
   "source": [
    "np.allclose(np.dot(a, x), b)"
   ]
  },
  {
   "cell_type": "code",
   "execution_count": null,
   "metadata": {},
   "outputs": [],
   "source": []
  }
 ],
 "metadata": {
  "kernelspec": {
   "display_name": "Python 3",
   "language": "python",
   "name": "python3"
  },
  "language_info": {
   "codemirror_mode": {
    "name": "ipython",
    "version": 3
   },
   "file_extension": ".py",
   "mimetype": "text/x-python",
   "name": "python",
   "nbconvert_exporter": "python",
   "pygments_lexer": "ipython3",
   "version": "3.8.5"
  }
 },
 "nbformat": 4,
 "nbformat_minor": 4
}
