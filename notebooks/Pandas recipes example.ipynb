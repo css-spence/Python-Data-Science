{
 "cells": [
  {
   "cell_type": "code",
   "execution_count": 1,
   "metadata": {},
   "outputs": [],
   "source": [
    "import pandas as pd\n",
    "import numpy as np\n",
    "import timeit\n",
    "import matplotlib.pyplot as plt\n",
    "import json\n",
    "import re"
   ]
  },
  {
   "cell_type": "code",
   "execution_count": 2,
   "metadata": {},
   "outputs": [],
   "source": [
    "filepath = \"/Users/Chrisdon/Documents/Training/Python/data/\""
   ]
  },
  {
   "cell_type": "markdown",
   "metadata": {},
   "source": [
    "### Load a compressed JSON file into a dataframe"
   ]
  },
  {
   "cell_type": "code",
   "execution_count": 3,
   "metadata": {},
   "outputs": [
    {
     "data": {
      "text/html": [
       "<div>\n",
       "<style scoped>\n",
       "    .dataframe tbody tr th:only-of-type {\n",
       "        vertical-align: middle;\n",
       "    }\n",
       "\n",
       "    .dataframe tbody tr th {\n",
       "        vertical-align: top;\n",
       "    }\n",
       "\n",
       "    .dataframe thead th {\n",
       "        text-align: right;\n",
       "    }\n",
       "</style>\n",
       "<table border=\"1\" class=\"dataframe\">\n",
       "  <thead>\n",
       "    <tr style=\"text-align: right;\">\n",
       "      <th></th>\n",
       "      <th>_id</th>\n",
       "      <th>name</th>\n",
       "      <th>ingredients</th>\n",
       "      <th>url</th>\n",
       "      <th>image</th>\n",
       "      <th>ts</th>\n",
       "      <th>cookTime</th>\n",
       "      <th>source</th>\n",
       "      <th>recipeYield</th>\n",
       "      <th>datePublished</th>\n",
       "      <th>prepTime</th>\n",
       "      <th>description</th>\n",
       "      <th>totalTime</th>\n",
       "      <th>creator</th>\n",
       "      <th>recipeCategory</th>\n",
       "      <th>dateModified</th>\n",
       "      <th>recipeInstructions</th>\n",
       "    </tr>\n",
       "  </thead>\n",
       "  <tbody>\n",
       "    <tr>\n",
       "      <th>0</th>\n",
       "      <td>{'$oid': '516c77f796cc62548fd30a5c'}</td>\n",
       "      <td>Tangy Fajita Marinade</td>\n",
       "      <td>1 cup pineapple juice\\n1/2 cup soy sauce\\n2 ta...</td>\n",
       "      <td>http://allrecipes.com/Recipe/Tangy-Fajita-Mari...</td>\n",
       "      <td>http://images.media-allrecipes.com/userphotos/...</td>\n",
       "      <td>{'$date': 1366063095269}</td>\n",
       "      <td>None</td>\n",
       "      <td>allrecipes</td>\n",
       "      <td>1 1/2 cups</td>\n",
       "      <td>None</td>\n",
       "      <td>PT5M</td>\n",
       "      <td>\"This is the best marinade I have ever tasted....</td>\n",
       "      <td>None</td>\n",
       "      <td>None</td>\n",
       "      <td>None</td>\n",
       "      <td>None</td>\n",
       "      <td>NaN</td>\n",
       "    </tr>\n",
       "    <tr>\n",
       "      <th>1</th>\n",
       "      <td>{'$oid': '5161f2da96cc620d2615c636'}</td>\n",
       "      <td>Healthy Chocolate Chip Oatmeal Cookies</td>\n",
       "      <td>¼ cups ¼ cups\\n½ cups ½ cups\\n1 whole 1 whole\\...</td>\n",
       "      <td>http://tastykitchen.com/recipes/desserts/healt...</td>\n",
       "      <td>http://static.tastykitchen.com/recipes/files/2...</td>\n",
       "      <td>{'$date': 1365373658520}</td>\n",
       "      <td>PT10M</td>\n",
       "      <td>tastykitchen</td>\n",
       "      <td>12</td>\n",
       "      <td>2011-04-05</td>\n",
       "      <td>PT15M</td>\n",
       "      <td>These tasty oatmeal chocolate chip cookies are...</td>\n",
       "      <td>None</td>\n",
       "      <td>None</td>\n",
       "      <td>None</td>\n",
       "      <td>None</td>\n",
       "      <td>NaN</td>\n",
       "    </tr>\n",
       "    <tr>\n",
       "      <th>2</th>\n",
       "      <td>{'$oid': '516a062a96cc624c4d8f009b'}</td>\n",
       "      <td>Courgette and Parmesan Soup</td>\n",
       "      <td>1 large onion, chopped\\n2 gloves garlic, slice...</td>\n",
       "      <td>http://www.bbcgoodfood.com/recipes/2535636/cou...</td>\n",
       "      <td>None</td>\n",
       "      <td>{'$date': 1365902890901}</td>\n",
       "      <td>None</td>\n",
       "      <td>bbcgoodfood</td>\n",
       "      <td>Serves 4</td>\n",
       "      <td>None</td>\n",
       "      <td>None</td>\n",
       "      <td>fresh summer soup, perfect for using up a glut...</td>\n",
       "      <td>None</td>\n",
       "      <td>None</td>\n",
       "      <td>None</td>\n",
       "      <td>None</td>\n",
       "      <td>NaN</td>\n",
       "    </tr>\n",
       "    <tr>\n",
       "      <th>3</th>\n",
       "      <td>{'$oid': '516077d596cc6208b33001e2'}</td>\n",
       "      <td>Shrimpo de Gallo</td>\n",
       "      <td>1 pound Cooked Shrimp (tails Removed), Chopped...</td>\n",
       "      <td>http://thepioneerwoman.com/cooking/2011/01/shr...</td>\n",
       "      <td>http://static.thepioneerwoman.com/cooking/file...</td>\n",
       "      <td>{'$date': 1365276629819}</td>\n",
       "      <td>PT</td>\n",
       "      <td>thepioneerwoman</td>\n",
       "      <td>12</td>\n",
       "      <td>2011-01-26</td>\n",
       "      <td>PT15M</td>\n",
       "      <td>Yes, I made up the name for this recipe. Why d...</td>\n",
       "      <td>None</td>\n",
       "      <td>None</td>\n",
       "      <td>None</td>\n",
       "      <td>None</td>\n",
       "      <td>NaN</td>\n",
       "    </tr>\n",
       "    <tr>\n",
       "      <th>4</th>\n",
       "      <td>{'$oid': '516a062e96cc624c4d8f00a5'}</td>\n",
       "      <td>Courgette &amp;amp; watercress salad with grilled ...</td>\n",
       "      <td>about 12 baby courgettes\\nolive oil\\n4 fillets...</td>\n",
       "      <td>http://www.bbcgoodfood.com/recipes/6672/courge...</td>\n",
       "      <td>http://www.bbcgoodfood.com/recipes/6672/images...</td>\n",
       "      <td>{'$date': 1365902894765}</td>\n",
       "      <td>PT10M</td>\n",
       "      <td>bbcgoodfood</td>\n",
       "      <td>Serves 4</td>\n",
       "      <td>None</td>\n",
       "      <td>PT10M</td>\n",
       "      <td>Cooking fish and teaming it with salad is perf...</td>\n",
       "      <td>None</td>\n",
       "      <td>None</td>\n",
       "      <td>None</td>\n",
       "      <td>None</td>\n",
       "      <td>NaN</td>\n",
       "    </tr>\n",
       "  </tbody>\n",
       "</table>\n",
       "</div>"
      ],
      "text/plain": [
       "                                    _id  \\\n",
       "0  {'$oid': '516c77f796cc62548fd30a5c'}   \n",
       "1  {'$oid': '5161f2da96cc620d2615c636'}   \n",
       "2  {'$oid': '516a062a96cc624c4d8f009b'}   \n",
       "3  {'$oid': '516077d596cc6208b33001e2'}   \n",
       "4  {'$oid': '516a062e96cc624c4d8f00a5'}   \n",
       "\n",
       "                                                name  \\\n",
       "0                              Tangy Fajita Marinade   \n",
       "1             Healthy Chocolate Chip Oatmeal Cookies   \n",
       "2                        Courgette and Parmesan Soup   \n",
       "3                                   Shrimpo de Gallo   \n",
       "4  Courgette &amp; watercress salad with grilled ...   \n",
       "\n",
       "                                         ingredients  \\\n",
       "0  1 cup pineapple juice\\n1/2 cup soy sauce\\n2 ta...   \n",
       "1  ¼ cups ¼ cups\\n½ cups ½ cups\\n1 whole 1 whole\\...   \n",
       "2  1 large onion, chopped\\n2 gloves garlic, slice...   \n",
       "3  1 pound Cooked Shrimp (tails Removed), Chopped...   \n",
       "4  about 12 baby courgettes\\nolive oil\\n4 fillets...   \n",
       "\n",
       "                                                 url  \\\n",
       "0  http://allrecipes.com/Recipe/Tangy-Fajita-Mari...   \n",
       "1  http://tastykitchen.com/recipes/desserts/healt...   \n",
       "2  http://www.bbcgoodfood.com/recipes/2535636/cou...   \n",
       "3  http://thepioneerwoman.com/cooking/2011/01/shr...   \n",
       "4  http://www.bbcgoodfood.com/recipes/6672/courge...   \n",
       "\n",
       "                                               image  \\\n",
       "0  http://images.media-allrecipes.com/userphotos/...   \n",
       "1  http://static.tastykitchen.com/recipes/files/2...   \n",
       "2                                               None   \n",
       "3  http://static.thepioneerwoman.com/cooking/file...   \n",
       "4  http://www.bbcgoodfood.com/recipes/6672/images...   \n",
       "\n",
       "                         ts cookTime           source recipeYield  \\\n",
       "0  {'$date': 1366063095269}     None       allrecipes  1 1/2 cups   \n",
       "1  {'$date': 1365373658520}    PT10M     tastykitchen          12   \n",
       "2  {'$date': 1365902890901}     None      bbcgoodfood    Serves 4   \n",
       "3  {'$date': 1365276629819}       PT  thepioneerwoman          12   \n",
       "4  {'$date': 1365902894765}    PT10M      bbcgoodfood    Serves 4   \n",
       "\n",
       "  datePublished prepTime                                        description  \\\n",
       "0          None     PT5M  \"This is the best marinade I have ever tasted....   \n",
       "1    2011-04-05    PT15M  These tasty oatmeal chocolate chip cookies are...   \n",
       "2          None     None  fresh summer soup, perfect for using up a glut...   \n",
       "3    2011-01-26    PT15M  Yes, I made up the name for this recipe. Why d...   \n",
       "4          None    PT10M  Cooking fish and teaming it with salad is perf...   \n",
       "\n",
       "  totalTime creator recipeCategory dateModified  recipeInstructions  \n",
       "0      None    None           None         None                 NaN  \n",
       "1      None    None           None         None                 NaN  \n",
       "2      None    None           None         None                 NaN  \n",
       "3      None    None           None         None                 NaN  \n",
       "4      None    None           None         None                 NaN  "
      ]
     },
     "execution_count": 3,
     "metadata": {},
     "output_type": "execute_result"
    }
   ],
   "source": [
    "try:\n",
    "   recipes = pd.read_json(filepath+'recipe_data.zip', compression=\"zip\")\n",
    "except ValueError as e:\n",
    "   print(\"ValueError:\", e)\n",
    "recipes.head()"
   ]
  },
  {
   "cell_type": "code",
   "execution_count": 4,
   "metadata": {},
   "outputs": [
    {
     "data": {
      "text/plain": [
       "_id                                {'$oid': '516c77f796cc62548fd30a5c'}\n",
       "name                                              Tangy Fajita Marinade\n",
       "ingredients           1 cup pineapple juice\\n1/2 cup soy sauce\\n2 ta...\n",
       "url                   http://allrecipes.com/Recipe/Tangy-Fajita-Mari...\n",
       "image                 http://images.media-allrecipes.com/userphotos/...\n",
       "ts                                             {'$date': 1366063095269}\n",
       "cookTime                                                           None\n",
       "source                                                       allrecipes\n",
       "recipeYield                                                  1 1/2 cups\n",
       "datePublished                                                      None\n",
       "prepTime                                                           PT5M\n",
       "description           \"This is the best marinade I have ever tasted....\n",
       "totalTime                                                          None\n",
       "creator                                                            None\n",
       "recipeCategory                                                     None\n",
       "dateModified                                                       None\n",
       "recipeInstructions                                                  NaN\n",
       "Name: 0, dtype: object"
      ]
     },
     "execution_count": 4,
     "metadata": {},
     "output_type": "execute_result"
    }
   ],
   "source": [
    "recipes.iloc[0] # examine the first entry in the dataframe"
   ]
  },
  {
   "cell_type": "code",
   "execution_count": 5,
   "metadata": {},
   "outputs": [
    {
     "data": {
      "text/plain": [
       "count    8664.000000\n",
       "mean      243.371191\n",
       "std       147.815138\n",
       "min         1.000000\n",
       "25%       147.000000\n",
       "50%       219.000000\n",
       "75%       313.000000\n",
       "max      3247.000000\n",
       "Name: ingredients, dtype: float64"
      ]
     },
     "execution_count": 5,
     "metadata": {},
     "output_type": "execute_result"
    }
   ],
   "source": [
    "# The ingredient lists average 250 characters long, with a minimum of 0 and a maximum of nearly 10,000 characters!\n",
    "recipes.ingredients.str.len().describe()"
   ]
  },
  {
   "cell_type": "code",
   "execution_count": 6,
   "metadata": {},
   "outputs": [
    {
     "data": {
      "text/plain": [
       "'Braised Beef cheeks Recipe'"
      ]
     },
     "execution_count": 6,
     "metadata": {},
     "output_type": "execute_result"
    }
   ],
   "source": [
    "recipes.name[np.argmax(recipes.ingredients.str.len())] # which recipe has the longest ingredient list:"
   ]
  },
  {
   "cell_type": "code",
   "execution_count": 7,
   "metadata": {},
   "outputs": [
    {
     "data": {
      "text/plain": [
       "179"
      ]
     },
     "execution_count": 7,
     "metadata": {},
     "output_type": "execute_result"
    }
   ],
   "source": [
    "recipes.description.str.contains('[Bb]reakfast').sum() # how many of the recipes are for breakfast food:"
   ]
  },
  {
   "cell_type": "code",
   "execution_count": 8,
   "metadata": {},
   "outputs": [
    {
     "data": {
      "text/plain": [
       "526"
      ]
     },
     "execution_count": 8,
     "metadata": {},
     "output_type": "execute_result"
    }
   ],
   "source": [
    "# how many of the recipes list cinnamon as an ingredient:\n",
    "recipes.ingredients.str.contains('[Cc]innamon').sum()"
   ]
  },
  {
   "cell_type": "markdown",
   "metadata": {},
   "source": [
    "## Simple recipe recommendation system"
   ]
  },
  {
   "cell_type": "code",
   "execution_count": 9,
   "metadata": {},
   "outputs": [
    {
     "data": {
      "text/html": [
       "<div>\n",
       "<style scoped>\n",
       "    .dataframe tbody tr th:only-of-type {\n",
       "        vertical-align: middle;\n",
       "    }\n",
       "\n",
       "    .dataframe tbody tr th {\n",
       "        vertical-align: top;\n",
       "    }\n",
       "\n",
       "    .dataframe thead th {\n",
       "        text-align: right;\n",
       "    }\n",
       "</style>\n",
       "<table border=\"1\" class=\"dataframe\">\n",
       "  <thead>\n",
       "    <tr style=\"text-align: right;\">\n",
       "      <th></th>\n",
       "      <th>salt</th>\n",
       "      <th>pepper</th>\n",
       "      <th>oregano</th>\n",
       "      <th>sage</th>\n",
       "      <th>parsley</th>\n",
       "      <th>rosemary</th>\n",
       "      <th>tarragon</th>\n",
       "      <th>thyme</th>\n",
       "      <th>paprika</th>\n",
       "      <th>cumin</th>\n",
       "    </tr>\n",
       "  </thead>\n",
       "  <tbody>\n",
       "    <tr>\n",
       "      <th>0</th>\n",
       "      <td>False</td>\n",
       "      <td>False</td>\n",
       "      <td>False</td>\n",
       "      <td>False</td>\n",
       "      <td>False</td>\n",
       "      <td>False</td>\n",
       "      <td>False</td>\n",
       "      <td>False</td>\n",
       "      <td>False</td>\n",
       "      <td>True</td>\n",
       "    </tr>\n",
       "    <tr>\n",
       "      <th>1</th>\n",
       "      <td>False</td>\n",
       "      <td>False</td>\n",
       "      <td>False</td>\n",
       "      <td>False</td>\n",
       "      <td>False</td>\n",
       "      <td>False</td>\n",
       "      <td>False</td>\n",
       "      <td>False</td>\n",
       "      <td>False</td>\n",
       "      <td>False</td>\n",
       "    </tr>\n",
       "    <tr>\n",
       "      <th>2</th>\n",
       "      <td>False</td>\n",
       "      <td>False</td>\n",
       "      <td>False</td>\n",
       "      <td>False</td>\n",
       "      <td>False</td>\n",
       "      <td>False</td>\n",
       "      <td>False</td>\n",
       "      <td>False</td>\n",
       "      <td>False</td>\n",
       "      <td>False</td>\n",
       "    </tr>\n",
       "    <tr>\n",
       "      <th>3</th>\n",
       "      <td>False</td>\n",
       "      <td>False</td>\n",
       "      <td>False</td>\n",
       "      <td>False</td>\n",
       "      <td>False</td>\n",
       "      <td>False</td>\n",
       "      <td>False</td>\n",
       "      <td>False</td>\n",
       "      <td>False</td>\n",
       "      <td>False</td>\n",
       "    </tr>\n",
       "    <tr>\n",
       "      <th>4</th>\n",
       "      <td>False</td>\n",
       "      <td>False</td>\n",
       "      <td>False</td>\n",
       "      <td>False</td>\n",
       "      <td>True</td>\n",
       "      <td>False</td>\n",
       "      <td>False</td>\n",
       "      <td>False</td>\n",
       "      <td>False</td>\n",
       "      <td>False</td>\n",
       "    </tr>\n",
       "  </tbody>\n",
       "</table>\n",
       "</div>"
      ],
      "text/plain": [
       "    salt  pepper  oregano   sage  parsley  rosemary  tarragon  thyme  paprika  \\\n",
       "0  False   False    False  False    False     False     False  False    False   \n",
       "1  False   False    False  False    False     False     False  False    False   \n",
       "2  False   False    False  False    False     False     False  False    False   \n",
       "3  False   False    False  False    False     False     False  False    False   \n",
       "4  False   False    False  False     True     False     False  False    False   \n",
       "\n",
       "   cumin  \n",
       "0   True  \n",
       "1  False  \n",
       "2  False  \n",
       "3  False  \n",
       "4  False  "
      ]
     },
     "execution_count": 9,
     "metadata": {},
     "output_type": "execute_result"
    }
   ],
   "source": [
    "spice_list = ['salt', 'pepper', 'oregano', 'sage', 'parsley',\n",
    " 'rosemary', 'tarragon', 'thyme', 'paprika', 'cumin']\n",
    "# build a Boolean DataFrame consisting of True and False values, indicating whether this ingredient appears in the list\n",
    "spice_df = pd.DataFrame(\n",
    " dict((spice, recipes.ingredients.str.contains(spice, re.IGNORECASE))\n",
    " for spice in spice_list))\n",
    "spice_df.head()"
   ]
  },
  {
   "cell_type": "code",
   "execution_count": 10,
   "metadata": {},
   "outputs": [
    {
     "data": {
      "text/plain": [
       "4681    Lamb shank tagine with herb tabbouleh\n",
       "Name: name, dtype: object"
      ]
     },
     "execution_count": 10,
     "metadata": {},
     "output_type": "execute_result"
    }
   ],
   "source": [
    "# find a recipe that uses parsley, paprika, and tarragon\n",
    "selection = spice_df.query('parsley & paprika & tarragon')\n",
    "len(selection)\n",
    "#We find only 10 recipes with this combination; let’s use the index returned by this\n",
    "#selection to discover the names of the recipes that have this combination:\n",
    "recipes.name[selection.index]"
   ]
  },
  {
   "cell_type": "code",
   "execution_count": null,
   "metadata": {},
   "outputs": [],
   "source": []
  }
 ],
 "metadata": {
  "kernelspec": {
   "display_name": "Python 3",
   "language": "python",
   "name": "python3"
  },
  "language_info": {
   "codemirror_mode": {
    "name": "ipython",
    "version": 3
   },
   "file_extension": ".py",
   "mimetype": "text/x-python",
   "name": "python",
   "nbconvert_exporter": "python",
   "pygments_lexer": "ipython3",
   "version": "3.8.5"
  }
 },
 "nbformat": 4,
 "nbformat_minor": 4
}
